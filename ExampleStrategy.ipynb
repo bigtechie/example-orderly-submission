{
 "cells": [
  {
   "cell_type": "code",
   "execution_count": 6,
   "id": "88177fd2-bb7e-47bc-ad0d-ff5264f0d70a",
   "metadata": {},
   "outputs": [
    {
     "data": {
      "text/plain": [
       "False"
      ]
     },
     "execution_count": 6,
     "metadata": {},
     "output_type": "execute_result"
    }
   ],
   "source": [
    "from dotenv import load_dotenv\n",
    "import pandas as pd\n",
    "import matplotlib.pyplot as plt\n",
    "\n",
    "from eth_rpc import PrivateKeyWallet\n",
    "from emp_orderly.utils import from_address\n",
    "from emp_orderly.onboarding import deposit\n",
    "from emp_orderly.onboarding.faucet import request_testnet_funds\n",
    "from emp_orderly_types import PerpetualAssetType, Interval, OrderType\n",
    "from emp_orderly import (\n",
    "    Strategy, EmpOrderly,\n",
    "    crossover, plot_heatmaps,\n",
    "    EMA, SMA, SLOPE, CHOP,\n",
    "    EmpyrealOrderlySDK,\n",
    ")\n",
    "from emp_orderly_types import PerpetualAssetType, Interval, OrderType\n",
    "\n",
    "load_dotenv()"
   ]
  },
  {
   "cell_type": "code",
   "execution_count": 7,
   "id": "f79fa4a0-e27c-41e7-8630-058c65a9ad10",
   "metadata": {},
   "outputs": [],
   "source": [
    "wallet = PrivateKeyWallet.create_new()\n",
    "orderly_id = from_address(wallet.address)\n",
    "\n",
    "sdk = EmpyrealOrderlySDK(pvt_hex=wallet.private_key, account_id=orderly_id, is_testnet=True)"
   ]
  },
  {
   "cell_type": "code",
   "execution_count": 8,
   "id": "c83772b1-7242-42f9-88c5-e85a99dd1065",
   "metadata": {},
   "outputs": [
    {
     "data": {
      "text/plain": [
       "Start                     2024-09-17 14:45:00\n",
       "End                       2024-09-21 09:15:00\n",
       "Duration                      3 days 18:30:00\n",
       "Exposure Time [%]                   94.572217\n",
       "Equity Final [$]                  1088.848387\n",
       "Equity Peak [$]                   1101.802878\n",
       "Return [%]                           8.884839\n",
       "Buy & Hold Return [%]               19.378151\n",
       "Return (Ann.) [%]                  7848.90185\n",
       "Volatility (Ann.) [%]             2309.479093\n",
       "Sharpe Ratio                         3.398559\n",
       "Sortino Ratio                             inf\n",
       "Calmar Ratio                      5640.837991\n",
       "Max. Drawdown [%]                   -1.391443\n",
       "Avg. Drawdown [%]                   -0.383318\n",
       "Max. Drawdown Duration        1 days 01:10:00\n",
       "Avg. Drawdown Duration        0 days 03:42:00\n",
       "# Trades                                   19\n",
       "Win Rate [%]                        31.578947\n",
       "Best Trade [%]                         9.4126\n",
       "Worst Trade [%]                     -1.117921\n",
       "Avg. Trade [%]                       0.887298\n",
       "Max. Trade Duration           0 days 21:45:00\n",
       "Avg. Trade Duration           0 days 04:31:00\n",
       "Profit Factor                        4.382804\n",
       "Expectancy [%]                       0.925462\n",
       "SQN                                   1.39014\n",
       "Kelly Criterion                      0.242722\n",
       "_strategy                            SmaCross\n",
       "_equity_curve                             ...\n",
       "_trades                       Size  EntryB...\n",
       "dtype: object"
      ]
     },
     "execution_count": 8,
     "metadata": {},
     "output_type": "execute_result"
    }
   ],
   "source": [
    "class SmaCross(Strategy):\n",
    "    n1: int = 10\n",
    "    n2: int = 40\n",
    "\n",
    "    @classmethod\n",
    "    def update_lags(cls, n1, n2):\n",
    "        cls.n1 = n1\n",
    "        cls.n2 = n2\n",
    "\n",
    "    def init(self):\n",
    "        close = self.data.close\n",
    "        self.sma1 = self.I(SMA, close, self.n1)\n",
    "        self.sma2 = self.I(SMA, close, self.n2)\n",
    "\n",
    "    def next(self):\n",
    "        if crossover(self.sma1, self.sma2):\n",
    "            self.position.close()\n",
    "            self.buy(size=0.5)\n",
    "        elif crossover(self.sma2, self.sma1):\n",
    "            self.position.close()\n",
    "            self.sell(size=0.5)\n",
    "\n",
    "\n",
    "tester = EmpOrderly(\n",
    "    cash=1000,\n",
    "    commission=.0001,\n",
    "    exclusive_orders=True,\n",
    "    sdk=sdk,\n",
    ")\n",
    "\n",
    "# load strategy and data\n",
    "tester.set_strategy(SmaCross)\n",
    "await tester.load_data(\n",
    "    lookback=14,\n",
    "    interval=Interval.five_minute,\n",
    "    asset=PerpetualAssetType.APT,\n",
    ")\n",
    "\n",
    "# backtest\n",
    "tester.backtest()"
   ]
  },
  {
   "cell_type": "code",
   "execution_count": 9,
   "id": "49df7acd-124a-4b0e-a4fd-85cd18117fb2",
   "metadata": {},
   "outputs": [],
   "source": [
    "# plot\n",
    "# tester.plot(show_price_data=False)\n",
    "# plt.show()"
   ]
  }
 ],
 "metadata": {
  "kernelspec": {
   "display_name": "Python 3 (ipykernel)",
   "language": "python",
   "name": "python3"
  },
  "language_info": {
   "codemirror_mode": {
    "name": "ipython",
    "version": 3
   },
   "file_extension": ".py",
   "mimetype": "text/x-python",
   "name": "python",
   "nbconvert_exporter": "python",
   "pygments_lexer": "ipython3",
   "version": "3.12.1"
  }
 },
 "nbformat": 4,
 "nbformat_minor": 5
}
